{
 "cells": [
  {
   "cell_type": "code",
   "execution_count": 1,
   "id": "dfb971bb-1304-485c-b13e-a9f8aeeb526d",
   "metadata": {},
   "outputs": [],
   "source": [
    "from tensorflow.keras.datasets import mnist\n",
    "from tensorflow.keras.layers import Dense, Flatten, Conv2D, ReLU\n",
    "from tensorflow.keras.models import Sequential\n",
    "import numpy as np\n",
    "import matplotlib.pyplot as plt\n",
    "import cv2\n",
    "from matplotlib import style\n",
    "from matplotlib import animation\n",
    "import tensorflow as tf\n",
    "from IPython import display"
   ]
  },
  {
   "cell_type": "code",
   "execution_count": 2,
   "id": "7f9c3b18-dbe9-4f8d-b3ad-94594fd7140c",
   "metadata": {},
   "outputs": [],
   "source": [
    "(x_train, y_train), (x_test, y_test) = mnist.load_data()"
   ]
  },
  {
   "cell_type": "code",
   "execution_count": 3,
   "id": "c9107c16-bb27-4e7d-b2d1-8bf70d18ed78",
   "metadata": {},
   "outputs": [],
   "source": [
    "X_train = np.expand_dims(x_train, axis=-1)\n",
    "X_test = np.expand_dims(x_test, axis=-1)"
   ]
  },
  {
   "cell_type": "code",
   "execution_count": 5,
   "id": "10c42709-17a6-4274-9271-e9cfaa9849bf",
   "metadata": {},
   "outputs": [],
   "source": [
    "model = Sequential()\n",
    "\n",
    "model.add(Conv2D(2, (3,3), input_shape=(28, 28, 1), activation = \"relu\"))\n",
    "model.add(Flatten())\n",
    "model.add(Dense(10, activation = \"relu\"))\n",
    "model.add(Dense(10, activation = \"relu\"))\n",
    "model.add(Dense(10, activation = \"softmax\"))\n",
    "\n",
    "model.compile(optimizer = \"adam\", loss=\"sparse_categorical_crossentropy\", metrics=[\"accuracy\"])\n",
    "\n",
    "model.fit(x_train, y_train, validation_data=(x_test, y_test), epochs = 5)\n"
   ]
  },
  {
   "cell_type": "code",
   "execution_count": 6,
   "id": "f3c0dbb6-4f2f-499f-9d37-c2dda514c08e",
   "metadata": {},
   "outputs": [],
   "source": []
  },
  {
   "cell_type": "code",
   "execution_count": 16,
   "id": "afd784a0-b80c-4c43-9598-f72168c4344b",
   "metadata": {},
   "outputs": [
    {
     "name": "stdout",
     "output_type": "stream",
     "text": [
      "Epoch 1/5\n",
      "\u001b[1m1875/1875\u001b[0m \u001b[32m━━━━━━━━━━━━━━━━━━━━\u001b[0m\u001b[37m\u001b[0m \u001b[1m4s\u001b[0m 2ms/step - accuracy: 0.8825 - loss: 0.4225 - val_accuracy: 0.8883 - val_loss: 0.4044\n",
      "Epoch 2/5\n",
      "\u001b[1m1875/1875\u001b[0m \u001b[32m━━━━━━━━━━━━━━━━━━━━\u001b[0m\u001b[37m\u001b[0m \u001b[1m4s\u001b[0m 2ms/step - accuracy: 0.9000 - loss: 0.3558 - val_accuracy: 0.9030 - val_loss: 0.3609\n",
      "Epoch 3/5\n",
      "\u001b[1m1875/1875\u001b[0m \u001b[32m━━━━━━━━━━━━━━━━━━━━\u001b[0m\u001b[37m\u001b[0m \u001b[1m4s\u001b[0m 2ms/step - accuracy: 0.9157 - loss: 0.3027 - val_accuracy: 0.9139 - val_loss: 0.3220\n",
      "Epoch 4/5\n",
      "\u001b[1m1875/1875\u001b[0m \u001b[32m━━━━━━━━━━━━━━━━━━━━\u001b[0m\u001b[37m\u001b[0m \u001b[1m5s\u001b[0m 2ms/step - accuracy: 0.9287 - loss: 0.2568 - val_accuracy: 0.9193 - val_loss: 0.2945\n",
      "Epoch 5/5\n",
      "\u001b[1m1875/1875\u001b[0m \u001b[32m━━━━━━━━━━━━━━━━━━━━\u001b[0m\u001b[37m\u001b[0m \u001b[1m5s\u001b[0m 3ms/step - accuracy: 0.9381 - loss: 0.2232 - val_accuracy: 0.9315 - val_loss: 0.2649\n"
     ]
    },
    {
     "data": {
      "text/plain": [
       "<keras.src.callbacks.history.History at 0x1cf27d3fbc0>"
      ]
     },
     "execution_count": 16,
     "metadata": {},
     "output_type": "execute_result"
    }
   ],
   "source": [
    "model.fit(x_train, y_train, validation_data=(x_test, y_test), epochs = 5)"
   ]
  },
  {
   "cell_type": "code",
   "execution_count": 9,
   "id": "290bd310-d8b5-4858-bf71-4d1a9d8bc5fa",
   "metadata": {},
   "outputs": [
    {
     "name": "stdout",
     "output_type": "stream",
     "text": [
      "\u001b[1m1/1\u001b[0m \u001b[32m━━━━━━━━━━━━━━━━━━━━\u001b[0m\u001b[37m\u001b[0m \u001b[1m0s\u001b[0m 113ms/step\n",
      "Predicted class: 2\n"
     ]
    }
   ],
   "source": [
    "predicted_class = model.predict(x_test[1].reshape(1, 28, 28, 1)).argmax()\n",
    "print(f'Predicted class: {predicted_class}')"
   ]
  },
  {
   "cell_type": "code",
   "execution_count": 10,
   "id": "11665cc6-6eef-4c82-902c-2a17add7aae3",
   "metadata": {},
   "outputs": [
    {
     "data": {
      "text/plain": [
       "<matplotlib.image.AxesImage at 0x1cf231f62a0>"
      ]
     },
     "execution_count": 10,
     "metadata": {},
     "output_type": "execute_result"
    },
    {
     "data": {
      "image/png": "[encoded data removed]",
      "text/plain": [
       "<Figure size 640x480 with 1 Axes>"
      ]
     },
     "metadata": {},
     "output_type": "display_data"
    }
   ],
   "source": [
    "plt.imshow((x_test[1]))"
   ]
  },
  {
   "cell_type": "code",
   "execution_count": 48,
   "id": "32569089-239b-4402-978b-8e2d260fa247",
   "metadata": {},
   "outputs": [],
   "source": [
    "%matplotlib tk\n",
    "\n",
    "style.use('dark_background')\n",
    "\n",
    "def viz(sample_num, fig):\n",
    "    input_data = x_test[sample_num]\n",
    "    output_truth = y_test[sample_num]\n",
    "    prediction = model.predict(x_test[sample_num].reshape(-1, 28, 28, 1)).argmax()\n",
    "    \n",
    "    wghts = []\n",
    "    for i in range(0, 5):\n",
    "        input_layer = model.get_layer(index=0).input\n",
    "        output_layer = model.get_layer(index=i).output\n",
    "        \n",
    "        get_layer_output_model = tf.keras.Model(inputs=input_layer, outputs=output_layer)\n",
    "        \n",
    "        output = get_layer_output_model((x_test[sample_num]).reshape(-1, 28, 28))\n",
    "        wghts.append(output[0].numpy())\n",
    "        \n",
    "    \n",
    "    fig.text(0.18, .94, \"Neural Net Output Visualization\", fontsize=15, color=\"white\", ha='center')\n",
    "    fig.text(0.18, .91, \"(MNIST)\", fontsize=14, color=\"white\", ha='center')\n",
    "    #fig.text(0.14, .89, \"Libraries: Tensorflow, Matplotlib (for animation)\" , fontsize=7, color=\"white\", ha='center')\n",
    "    fig.text(0.08, .035, \"Github: @m4n4m4hm3d\" , fontsize=9, color=\"white\", ha='center')\n",
    "    \n",
    "    if output_truth == prediction:\n",
    "        fig.suptitle(\"Correct!\", fontsize=14, color=\"green\")\n",
    "        fig.text(0.505, .935, f\"prediction {prediction}, Truth {output_truth}\", fontsize=10, color=\"white\", ha='center')\n",
    "    else:\n",
    "        fig.suptitle(\"Wrong!\", fontsize=14, color=\"red\")\n",
    "        fig.text(0.505, 0.94, f\"prediction {prediction}, Truth {output_truth}\", fontsize=10, color=\"white\", ha='center')\n",
    "\n",
    "\n",
    "    ax0 = plt.subplot2grid((2,5), (0,0), rowspan=2, colspan=1)\n",
    "    ax1 = plt.subplot2grid((2,5), (0,1), rowspan=1, colspan=1)\n",
    "    ax2 = plt.subplot2grid((2,5), (1,1), rowspan=1, colspan=1)\n",
    "    ax3 = plt.subplot2grid((2,5), (0,2), rowspan=2, colspan=1)\n",
    "    ax4 = plt.subplot2grid((2,5), (0,3), rowspan=2, colspan=1)\n",
    "    ax5 = plt.subplot2grid((2,5), (0,4), rowspan=2, colspan=1)\n",
    "\n",
    "    ax0.imshow(x_test[sample_num], cmap = \"gray\")\n",
    "    ax0.set_title(\"Image\", fontsize = 10, color=\"white\")\n",
    "\n",
    "    conv1 = wghts[0][:, :, 0:1].reshape(26, 26, 1)\n",
    "    conv2 = wghts[0][:, :, 1:2].reshape(26, 26, 1)\n",
    "    ax1.imshow(conv1, cmap = \"gray\")\n",
    "    ax1.set_title(\"Cov1\", fontsize = 10, color=\"white\")\n",
    "    ax2.imshow(conv2, cmap = \"gray\")\n",
    "    ax2.set_title(\"conv2\", fontsize = 10, color=\"white\")\n",
    "    \n",
    "    ax3.imshow(wghts[2].reshape(-1, 1), cmap= \"gray\")\n",
    "    ax4.set_yticks(np.arange(0, 10, 1))\n",
    "    ax3.set_xticklabels([])\n",
    "    ax3.set_title(\"Layer 1\\noutput\", fontsize = 10, color=\"white\")\n",
    "    \n",
    "    ax4.imshow(wghts[3].reshape(-1, 1), cmap= \"gray\")\n",
    "    ax4.set_yticks(np.arange(0, 10, 1))\n",
    "    ax4.set_xticklabels([])\n",
    "    ax4.set_title(\"Layer 2\\noutput\", fontsize = 10, color=\"white\")\n",
    "    \n",
    "    ax5.imshow(wghts[4].reshape(-1, 1), cmap= \"gray\")\n",
    "    ax5.set_yticks(np.arange(0, 10, 1))\n",
    "    ax5.set_title(\"Output\\nLayer\", fontsize = 10, color=\"white\")\n",
    "    ax5.set_xticklabels([])\n",
    "\n",
    "display.clear_output()"
   ]
  },
  {
   "cell_type": "code",
   "execution_count": 49,
   "id": "6a430f1c-80af-42ca-a3bd-c0c4e107ffa8",
   "metadata": {},
   "outputs": [
    {
     "name": "stdout",
     "output_type": "stream",
     "text": [
      "\u001b[1m1/1\u001b[0m \u001b[32m━━━━━━━━━━━━━━━━━━━━\u001b[0m\u001b[37m\u001b[0m \u001b[1m0s\u001b[0m 23ms/step\n"
     ]
    }
   ],
   "source": [
    "#single image\n",
    "fig = plt.figure(figsize=(12, 12))\n",
    "viz(10, fig)"
   ]
  },
  {
   "cell_type": "code",
   "execution_count": 51,
   "id": "382371b4-b11f-4909-bb5b-941ee16d15c3",
   "metadata": {},
   "outputs": [],
   "source": [
    "#Video animation\n",
    "\n",
    "%matplotlib tk\n",
    "fig = plt.figure(figsize=(12, 12))\n",
    "def animate(i, fig):\n",
    "    fig.clear()\n",
    "    viz(i, fig)\n",
    "    plt.savefig(f\"layer_outs/{i}.png\")\n",
    "ani = animation.FuncAnimation(fig, animate, frames=1000 , fargs=(fig,), interval=1000)"
   ]
  }
 ],
 "metadata": {
  "kernelspec": {
   "display_name": "Python 3 (ipykernel)",
   "language": "python",
   "name": "python3"
  },
  "language_info": {
   "codemirror_mode": {
    "name": "ipython",
    "version": 3
   },
   "file_extension": ".py",
   "mimetype": "text/x-python",
   "name": "python",
   "nbconvert_exporter": "python",
   "pygments_lexer": "ipython3",
   "version": "3.12.6"
  }
 },
 "nbformat": 4,
 "nbformat_minor": 5
}
